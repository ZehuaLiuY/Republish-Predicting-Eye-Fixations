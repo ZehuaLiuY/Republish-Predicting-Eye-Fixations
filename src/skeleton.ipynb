{
 "cells": [
  {
   "cell_type": "code",
   "id": "initial_id",
   "metadata": {
    "collapsed": true,
    "ExecuteTime": {
     "end_time": "2024-11-12T12:15:43.487522Z",
     "start_time": "2024-11-12T12:15:40.336534Z"
    }
   },
   "source": [
    "import torch\n",
    "from torch.optim import Adam\n",
    "import torch.nn as nn\n",
    "from src.dataset import MIT\n",
    "from src.MrCNN import MrCNN\n",
    "\n",
    "device = torch.device('cuda' if torch.cuda.is_available() else 'cpu')\n",
    "print(f'Using device: {device}')"
   ],
   "outputs": [
    {
     "name": "stdout",
     "output_type": "stream",
     "text": [
      "Using device: cpu\n"
     ]
    }
   ],
   "execution_count": 1
  },
  {
   "metadata": {
    "ExecuteTime": {
     "end_time": "2024-11-12T12:15:50.001508Z",
     "start_time": "2024-11-12T12:15:43.489206Z"
    }
   },
   "cell_type": "code",
   "source": [
    "from torch.utils.data import DataLoader\n",
    "\n",
    "path = '../dataset/train_data.pth.tar'\n",
    "val_path = '../dataset/val_data.pth.tar'\n",
    "test_path = '../dataset/test_data.pth.tar'\n",
    "dataset = MIT(dataset_path=path)\n",
    "val_dataset = MIT(dataset_path=val_path)\n",
    "test_dataset = MIT(dataset_path=test_path)\n",
    "dataloader = DataLoader(dataset, batch_size=128, shuffle=True)\n",
    "val_loader = DataLoader(val_dataset, batch_size=128, shuffle=True)\n",
    "test_loader = DataLoader(test_dataset, batch_size=128, shuffle=True)"
   ],
   "id": "130a57949f11c7d5",
   "outputs": [],
   "execution_count": 2
  },
  {
   "metadata": {
    "ExecuteTime": {
     "end_time": "2024-11-12T12:15:52.262539Z",
     "start_time": "2024-11-12T12:15:50.002515Z"
    }
   },
   "cell_type": "code",
   "source": [
    "model = MrCNN().to(device)\n",
    "optimizer = Adam(model.parameters(), lr=0.001)\n",
    "criterion = nn.BCELoss()  # Use Binary Cross Entropy for binary classification"
   ],
   "id": "8b8548889dab8ea1",
   "outputs": [],
   "execution_count": 3
  },
  {
   "metadata": {},
   "cell_type": "code",
   "source": [
    "# Training loop\n",
    "for epoch in range(3):\n",
    "    for batch in dataloader:\n",
    "        X, y = batch\n",
    "        # print(y.shape)\n",
    "        # print(y.type())\n",
    "        print(y)\n",
    "        X_400_crop = X[:, 0, :, :, :].to(device)\n",
    "        X_250_crop = X[:, 1, :, :, :].to(device)\n",
    "        X_150_crop = X[:, 2, :, :, :].to(device)\n",
    "        \n",
    "        optimizer.zero_grad()\n",
    "        output = model(X_400_crop, X_250_crop, X_150_crop)\n",
    "        #print(output)\n",
    "        #print(output.shape)\n",
    "        # print(output.type())\n",
    "        y = y.view(-1, 1).float().to(device)\n",
    "        loss = criterion(output, y)\n",
    "        loss.backward()\n",
    "        optimizer.step()\n",
    "    print(f'Epoch {epoch+1}, Loss: {loss.item()}')"
   ],
   "id": "18e6ef93cefc542",
   "outputs": [],
   "execution_count": null
  },
  {
   "metadata": {
    "ExecuteTime": {
     "end_time": "2024-11-10T18:11:44.994229Z",
     "start_time": "2024-11-10T18:11:44.920876Z"
    }
   },
   "cell_type": "code",
   "source": [
    "# visulize the output and input\n",
    "for epoch in range(1):\n",
    "    for batch in val_loader:\n",
    "        X, y = batch\n",
    "        print(y)\n",
    "        # print(X)\n",
    "        break\n",
    "for epoch in range(1):\n",
    "    for batch in dataloader:\n",
    "        X, y = batch\n",
    "        print(y)\n",
    "        # print(X)\n",
    "        break\n",
    "for epoch in range(1):\n",
    "    for batch in test_loader:\n",
    "        X, y = batch\n",
    "        print(y)\n",
    "        # print(X)\n",
    "        break"
   ],
   "id": "a2ec1b3bf60ab7da",
   "outputs": [
    {
     "name": "stdout",
     "output_type": "stream",
     "text": [
      "tensor([-1, -1, -1, -1, -1, -1, -1, -1, -1, -1, -1, -1, -1, -1, -1, -1, -1, -1,\n",
      "        -1, -1, -1, -1, -1, -1, -1, -1, -1, -1, -1, -1, -1, -1, -1, -1, -1, -1,\n",
      "        -1, -1, -1, -1, -1, -1, -1, -1, -1, -1, -1, -1, -1, -1, -1, -1, -1, -1,\n",
      "        -1, -1, -1, -1, -1, -1, -1, -1, -1, -1, -1, -1, -1, -1, -1, -1, -1, -1,\n",
      "        -1, -1, -1, -1, -1, -1, -1, -1, -1, -1, -1, -1, -1, -1, -1, -1, -1, -1,\n",
      "        -1, -1, -1, -1, -1, -1, -1, -1, -1, -1, -1, -1, -1, -1, -1, -1, -1, -1,\n",
      "        -1, -1, -1, -1, -1, -1, -1, -1, -1, -1, -1, -1, -1, -1, -1, -1, -1, -1,\n",
      "        -1, -1])\n",
      "tensor([0, 1, 0, 0, 0, 0, 0, 0, 0, 0, 0, 1, 0, 1, 0, 0, 0, 1, 0, 0, 0, 0, 0, 1,\n",
      "        0, 0, 0, 1, 1, 0, 0, 0, 1, 1, 1, 1, 0, 1, 0, 1, 0, 0, 0, 0, 1, 0, 0, 0,\n",
      "        0, 0, 1, 1, 1, 1, 1, 1, 0, 0, 1, 0, 1, 1, 0, 0, 0, 1, 0, 0, 1, 0, 0, 1,\n",
      "        0, 0, 1, 0, 1, 1, 1, 1, 0, 0, 1, 0, 0, 0, 0, 1, 0, 0, 0, 1, 1, 0, 0, 0,\n",
      "        1, 1, 0, 0, 0, 0, 1, 0, 1, 0, 0, 1, 0, 0, 1, 1, 1, 0, 0, 0, 0, 0, 0, 0,\n",
      "        1, 0, 0, 0, 1, 0, 0, 0])\n",
      "tensor([-1, -1, -1, -1, -1, -1, -1, -1, -1, -1, -1, -1, -1, -1, -1, -1, -1, -1,\n",
      "        -1, -1, -1, -1, -1, -1, -1, -1, -1, -1, -1, -1, -1, -1, -1, -1, -1, -1,\n",
      "        -1, -1, -1, -1, -1, -1, -1, -1, -1, -1, -1, -1, -1, -1, -1, -1, -1, -1,\n",
      "        -1, -1, -1, -1, -1, -1, -1, -1, -1, -1, -1, -1, -1, -1, -1, -1, -1, -1,\n",
      "        -1, -1, -1, -1, -1, -1, -1, -1, -1, -1, -1, -1, -1, -1, -1, -1, -1, -1,\n",
      "        -1, -1, -1, -1, -1, -1, -1, -1, -1, -1, -1, -1, -1, -1, -1, -1, -1, -1,\n",
      "        -1, -1, -1, -1, -1, -1, -1, -1, -1, -1, -1, -1, -1, -1, -1, -1, -1, -1,\n",
      "        -1, -1])\n"
     ]
    }
   ],
   "execution_count": 18
  }
 ],
 "metadata": {
  "kernelspec": {
   "display_name": "Python 3",
   "language": "python",
   "name": "python3"
  },
  "language_info": {
   "codemirror_mode": {
    "name": "ipython",
    "version": 2
   },
   "file_extension": ".py",
   "mimetype": "text/x-python",
   "name": "python",
   "nbconvert_exporter": "python",
   "pygments_lexer": "ipython2",
   "version": "2.7.6"
  }
 },
 "nbformat": 4,
 "nbformat_minor": 5
}
