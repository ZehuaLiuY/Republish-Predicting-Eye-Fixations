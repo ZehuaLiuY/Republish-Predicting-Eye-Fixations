{
 "cells": [
  {
   "cell_type": "code",
   "id": "initial_id",
   "metadata": {
    "collapsed": true,
    "ExecuteTime": {
     "end_time": "2024-11-09T18:56:52.882516Z",
     "start_time": "2024-11-09T18:56:51.894401Z"
    }
   },
   "source": [
    "import torch\n",
    "from torch.optim import Adam\n",
    "import torch.nn as nn\n",
    "from src.dataset import MIT\n",
    "from src.MrCNN import MrCNN\n",
    "\n",
    "device = torch.device('cuda' if torch.cuda.is_available() else 'cpu')\n",
    "print(f'Using device: {device}')"
   ],
   "outputs": [
    {
     "name": "stdout",
     "output_type": "stream",
     "text": [
      "Using device: cuda\n"
     ]
    }
   ],
   "execution_count": 1
  },
  {
   "metadata": {
    "ExecuteTime": {
     "end_time": "2024-11-09T18:56:54.712846Z",
     "start_time": "2024-11-09T18:56:52.886237Z"
    }
   },
   "cell_type": "code",
   "source": [
    "import matplotlib.pyplot as plt\n",
    "from torch.utils.data import DataLoader\n",
    "\n",
    "path = '../dataset/train_data.pth.tar'\n",
    "dataset = MIT(dataset_path=path)\n",
    "dataloader = DataLoader(dataset, batch_size=1, shuffle=True)\n",
    "\n",
    "# visualize the data\n",
    "for batch in dataloader:\n",
    "    X, y = batch \n",
    "    X_400_crop = X[:, 0, :, :, :]  # dim 0\n",
    "    X_250_crop = X[:, 1, :, :, :]  # dim 1\n",
    "    X_150_crop = X[:, 2, :, :, :]  # dim 2\n",
    "\n",
    "    X_400_resized_np = X_400_crop.squeeze().permute(1, 2, 0).numpy()\n",
    "    X_250_resized_np = X_250_crop.squeeze().permute(1, 2, 0).numpy()\n",
    "    X_150_resized_np = X_150_crop.squeeze().permute(1, 2, 0).numpy()\n",
    "\n",
    "    plt.figure(figsize=(15, 5))\n",
    "\n",
    "    plt.subplot(1, 3, 1)\n",
    "    plt.imshow(X_400_resized_np)\n",
    "    plt.title(\"400x400 Image\")\n",
    "    plt.axis('off')\n",
    "\n",
    "    plt.subplot(1, 3, 2)\n",
    "    plt.imshow(X_250_resized_np)\n",
    "    plt.title(\"250x250 Image\")\n",
    "    plt.axis('off')\n",
    "\n",
    "    plt.subplot(1, 3, 3)\n",
    "    plt.imshow(X_150_resized_np)\n",
    "    plt.title(\"150x150 Image\")\n",
    "    plt.axis('off')\n",
    "\n",
    "    plt.show()\n",
    "    break\n"
   ],
   "id": "130a57949f11c7d5",
   "outputs": [
    {
     "name": "stderr",
     "output_type": "stream",
     "text": [
      "Clipping input data to the valid range for imshow with RGB data ([0..1] for floats or [0..255] for integers). Got range [-1.4360864..2.09252].\n",
      "Clipping input data to the valid range for imshow with RGB data ([0..1] for floats or [0..255] for integers). Got range [-1.3569306..2.0988836].\n",
      "Clipping input data to the valid range for imshow with RGB data ([0..1] for floats or [0..255] for integers). Got range [-1.2806088..2.0992432].\n"
     ]
    },
    {
     "data": {
      "text/plain": [
       "<Figure size 1500x500 with 3 Axes>"
      ],
      "image/png": "[encoded data removed]"
     },
     "metadata": {},
     "output_type": "display_data"
    }
   ],
   "execution_count": 2
  },
  {
   "metadata": {
    "ExecuteTime": {
     "end_time": "2024-11-09T18:56:55.377395Z",
     "start_time": "2024-11-09T18:56:54.811923Z"
    }
   },
   "cell_type": "code",
   "source": [
    "model = MrCNN().to(device)\n",
    "optimizer = Adam(model.parameters(), lr=0.001)\n",
    "criterion = nn.BCELoss()  # Use Binary Cross Entropy for binary classification"
   ],
   "id": "8b8548889dab8ea1",
   "outputs": [],
   "execution_count": 3
  },
  {
   "metadata": {
    "jupyter": {
     "is_executing": true
    },
    "ExecuteTime": {
     "start_time": "2024-11-09T18:56:55.388458Z"
    }
   },
   "cell_type": "code",
   "source": [
    "# Training loop\n",
    "for epoch in range(3):\n",
    "    for batch in dataloader:\n",
    "        X, y = batch\n",
    "        # print(y.shape)\n",
    "        # print(y.type())\n",
    "        X_400_crop = X[:, 0, :, :, :].to(device)\n",
    "        X_250_crop = X[:, 1, :, :, :].to(device)\n",
    "        X_150_crop = X[:, 2, :, :, :].to(device)\n",
    "        \n",
    "        optimizer.zero_grad()\n",
    "        output = model(X_400_crop, X_250_crop, X_150_crop)\n",
    "        # print(output.shape)\n",
    "        # print(output.type())\n",
    "        y = y.view(-1, 1).float().to(device)\n",
    "        loss = criterion(output, y)\n",
    "        loss.backward()\n",
    "        optimizer.step()\n",
    "    print(f'Epoch {epoch+1}, Loss: {loss.item()}')\n"
   ],
   "id": "18e6ef93cefc542",
   "outputs": [],
   "execution_count": null
  }
 ],
 "metadata": {
  "kernelspec": {
   "display_name": "Python 3",
   "language": "python",
   "name": "python3"
  },
  "language_info": {
   "codemirror_mode": {
    "name": "ipython",
    "version": 2
   },
   "file_extension": ".py",
   "mimetype": "text/x-python",
   "name": "python",
   "nbconvert_exporter": "python",
   "pygments_lexer": "ipython2",
   "version": "2.7.6"
  }
 },
 "nbformat": 4,
 "nbformat_minor": 5
}
